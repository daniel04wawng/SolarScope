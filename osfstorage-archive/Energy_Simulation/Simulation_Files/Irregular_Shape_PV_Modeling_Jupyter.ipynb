{
 "cells": [
  {
   "cell_type": "markdown",
   "metadata": {
    "id": "4L6fES8JD6WM"
   },
   "source": [
    "#SAM Code for Vertical Swinging PV\n",
    "---\n",
    "\n",
    "Input data"
   ]
  },
  {
   "cell_type": "markdown",
   "metadata": {
    "id": "C0kRKGp0EV6e"
   },
   "source": [
    "## Importations and General Purpose Functions"
   ]
  },
  {
   "cell_type": "code",
   "execution_count": 1,
   "metadata": {
    "executionInfo": {
     "elapsed": 1480,
     "status": "ok",
     "timestamp": 1694009398074,
     "user": {
      "displayName": "Koami Soulemane Hayibo",
      "userId": "09397315604881879039"
     },
     "user_tz": 240
    },
    "id": "Mj6YV7RG-AJQ"
   },
   "outputs": [],
   "source": [
    "import pandas as pd\n",
    "import numpy as np\n",
    "import scipy as sp\n",
    "import matplotlib.pyplot as plt\n",
    "%matplotlib inline\n",
    "import seaborn as sns\n",
    "import time\n",
    "import calendar\n",
    "import ast\n",
    "import os\n",
    "\n",
    "\n",
    "from scipy.optimize import minimize\n",
    "from scipy.optimize import fsolve\n",
    "from scipy.optimize import Bounds\n",
    "from scipy.optimize import NonlinearConstraint\n",
    "from scipy.integrate import quad\n",
    "from math import isnan\n",
    "from powermanagement import long_running"
   ]
  },
  {
   "cell_type": "code",
   "execution_count": 2,
   "metadata": {
    "executionInfo": {
     "elapsed": 11,
     "status": "ok",
     "timestamp": 1694009398075,
     "user": {
      "displayName": "Koami Soulemane Hayibo",
      "userId": "09397315604881879039"
     },
     "user_tz": 240
    },
    "id": "S_TCWqOgJ7nC"
   },
   "outputs": [],
   "source": [
    "def extract_list_from_file(file_path):\n",
    "    try:\n",
    "        with open(file_path, 'r') as file:\n",
    "            line = file.readline().strip()\n",
    "\n",
    "            # Use ast.literal_eval to safely evaluate the contents and convert to a list\n",
    "            extracted_list = ast.literal_eval(line)\n",
    "\n",
    "            return extracted_list\n",
    "    except FileNotFoundError:\n",
    "        print(f\"File '{file_path}' not found.\")\n",
    "        return []\n",
    "    except Exception as e:\n",
    "        print(f\"Error occurred: {e}\")\n",
    "        return []"
   ]
  },
  {
   "cell_type": "code",
   "execution_count": 3,
   "metadata": {
    "executionInfo": {
     "elapsed": 11,
     "status": "ok",
     "timestamp": 1694009398076,
     "user": {
      "displayName": "Koami Soulemane Hayibo",
      "userId": "09397315604881879039"
     },
     "user_tz": 240
    },
    "id": "KKRhyKn8fsUG"
   },
   "outputs": [],
   "source": [
    "def create_time_frame(df):\n",
    "    \"\"\"\n",
    "        converts the individual year, month, date, and hour of a\n",
    "        dataframe into a datetime object in a column named Timeframe.\n",
    "\n",
    "        returns a new dataframe\n",
    "    \"\"\"\n",
    "\n",
    "    df = df.copy(deep=True)\n",
    "    df = df.reset_index()\n",
    "    df['Timeframe'] = pd.to_datetime(df[['Year', 'Month', 'Day', 'Hour']],\n",
    "                                     format = '%Y/%M/%D %H')\n",
    "    return df"
   ]
  },
  {
   "cell_type": "markdown",
   "metadata": {
    "id": "U2yKTfrb6vYT"
   },
   "source": [
    "### Trigonometric Functions"
   ]
  },
  {
   "cell_type": "code",
   "execution_count": 4,
   "metadata": {
    "executionInfo": {
     "elapsed": 12,
     "status": "ok",
     "timestamp": 1694009398077,
     "user": {
      "displayName": "Koami Soulemane Hayibo",
      "userId": "09397315604881879039"
     },
     "user_tz": 240
    },
    "id": "FpAUVUMz6JQz"
   },
   "outputs": [],
   "source": [
    "def sinRad(x):\n",
    "    return np.sin(x)\n",
    "\n",
    "def cosRad(x):\n",
    "    return np.cos(x)\n",
    "\n",
    "def tanRad(x):\n",
    "    return np.tan(x)\n",
    "\n",
    "def sinDeg(x):\n",
    "    return np.sin(x*pi/180)\n",
    "\n",
    "def cosDeg(x):\n",
    "    return np.cos(x*pi/180)\n",
    "\n",
    "def tanDeg(x):\n",
    "    return np.tan(x*pi/180)\n",
    "\n",
    "def asinRad(x):\n",
    "    return np.arcsin(x)\n",
    "\n",
    "def acosRad(x):\n",
    "    return np.arccos(x)\n",
    "\n",
    "def atanRad(x):\n",
    "    return np.arctan(x)\n",
    "\n",
    "def asinDeg(x):\n",
    "    return 180*np.arcsin(x)/pi\n",
    "\n",
    "def acosDeg(x):\n",
    "    return 180*np.arccos(x)/pi\n",
    "\n",
    "def atanDeg(x):\n",
    "    return 180*np.arctan(x)/pi\n",
    "\n",
    "def cotanRad(x):\n",
    "    return np.cos(x) / np.sin(x)\n",
    "\n",
    "def cotanDeg(x):\n",
    "    return np.cos(x*pi/180) / np.sin(x*pi/180)\n",
    "\n",
    "def radToDeg(row):\n",
    "    return row*180/(np.pi)\n",
    "\n",
    "def increase_azim(x, azim_step):\n",
    "    x = x + azim_step\n",
    "    if x >= 360:\n",
    "        x = x - 360\n",
    "    return x\n",
    "\n",
    "pi = np.pi"
   ]
  },
  {
   "cell_type": "markdown",
   "metadata": {
    "id": "W8cSuQ0IRBzA"
   },
   "source": [
    "## Getting Input Data"
   ]
  },
  {
   "cell_type": "markdown",
   "metadata": {
    "id": "1-6rh_r-wZuL"
   },
   "source": [
    "### Weather Data"
   ]
  },
  {
   "cell_type": "markdown",
   "metadata": {
    "id": "S2FXYFJRLUHx"
   },
   "source": [
    "#### Extract Metadata from the Dataset"
   ]
  },
  {
   "cell_type": "code",
   "execution_count": 5,
   "metadata": {
    "executionInfo": {
     "elapsed": 12,
     "status": "ok",
     "timestamp": 1694009398077,
     "user": {
      "displayName": "Koami Soulemane Hayibo",
      "userId": "09397315604881879039"
     },
     "user_tz": 240
    },
    "id": "kTfy4S8DKir0"
   },
   "outputs": [],
   "source": [
    "def extractWeatherData(url):\n",
    "\n",
    "    def findDayOfYear(row):\n",
    "\n",
    "        if row.year%4 != 0:\n",
    "            return row.day_of_year\n",
    "\n",
    "        else:\n",
    "            if row.month == 1 or row.month == 2:\n",
    "                return row.day_of_year\n",
    "            else:\n",
    "                return row.day_of_year - 1\n",
    "\n",
    "\n",
    "    #____________________________Extract Metadata______________________________#\n",
    "    df = pd.read_csv(url, nrows=1)\n",
    "    metadata = df[['Latitude', 'Longitude', 'Time Zone', 'Elevation']]\n",
    "\n",
    "    lat     = metadata.loc[0, 'Latitude']       # latitue\n",
    "    lon     = metadata.loc[0, 'Longitude']      # longitude\n",
    "    t_z     = metadata.loc[0, 'Time Zone']      # time zone\n",
    "    elv     = metadata.loc[0, 'Elevation']      # elevation\n",
    "\n",
    "    #___________________________Extract Timeseries_____________________________#\n",
    "    df = pd.read_csv(url, skiprows=2)\n",
    "    # create day of year and ensure February 29 is not included\n",
    "    df = create_time_frame(df)\n",
    "    df['Day of Year'] = df.Timeframe.apply(findDayOfYear)\n",
    "    df = df.drop(df[(df.Month == 2) & (df.Day == 29)].index, axis=0)\n",
    "\n",
    "    # time inputs\n",
    "    year = df['Year']   # year\n",
    "    mon = df['Month']   # month\n",
    "    day = df['Day'] # day\n",
    "    hour = df['Hour']   # hour\n",
    "    min = df['Minute']  # minute\n",
    "    doy = df['Day of Year'] # day of year\n",
    "\n",
    "    # weather parameters inputs\n",
    "    w_speed = df['Wind Speed']  # wind speed\n",
    "    w_dir = df['Wind Direction']    # wind direction\n",
    "    amb_temp = df['Temperature']    # ambient temperature\n",
    "    albedo = df['Surface Albedo']   # surface albedo\n",
    "\n",
    "    # irradation inputs\n",
    "    beam_irr = df['DNI'] # beam irradiation (direct normal)\n",
    "    diffuse_irr = df['DHI'] # diffuse horizontal irradiation\n",
    "    global_irr = df['GHI']  # global horinzontal irradiation\n",
    "\n",
    "\n",
    "    return (lat, lon, t_z, elv, year, mon, day, hour, min, doy, w_speed, w_dir,\n",
    "            amb_temp, albedo, beam_irr, diffuse_irr, global_irr)"
   ]
  },
  {
   "cell_type": "markdown",
   "metadata": {
    "id": "HRLzOuyRwqCV"
   },
   "source": [
    "### Module Data"
   ]
  },
  {
   "cell_type": "code",
   "execution_count": 6,
   "metadata": {
    "executionInfo": {
     "elapsed": 12,
     "status": "ok",
     "timestamp": 1694009398078,
     "user": {
      "displayName": "Koami Soulemane Hayibo",
      "userId": "09397315604881879039"
     },
     "user_tz": 240
    },
    "id": "BtnhGgcVyhcS"
   },
   "outputs": [],
   "source": [
    "def getModuleParams(db_url, mod_name):\n",
    "    df = pd.read_csv(db_url, skiprows=[1,2])\n",
    "    df.set_index('Name', inplace=True)\n",
    "    pv_module = df.loc[module_name]\n",
    "    bifacial = pv_module.Bifacial\n",
    "    pv_area = pv_module.A_c\n",
    "    i_mp_ref = pv_module.I_mp_ref\n",
    "    i_sc_ref = pv_module.I_sc_ref\n",
    "    v_mp_ref = pv_module.V_mp_ref\n",
    "    v_oc_ref = pv_module.V_oc_ref\n",
    "    al_sc_ref = pv_module.alpha_sc\n",
    "    be_oc_ref = pv_module.beta_oc\n",
    "    i_l_ref = pv_module.I_L_ref\n",
    "    i_o_ref = pv_module.I_o_ref\n",
    "    rs_ref = pv_module.R_s\n",
    "    rsh_ref = pv_module.R_sh_ref\n",
    "    a_ref = pv_module.a_ref\n",
    "    temp_adjust = pv_module.Adjust\n",
    "    noct_temp = pv_module.T_NOCT\n",
    "\n",
    "    return (bifacial, pv_area, i_mp_ref, i_sc_ref, v_mp_ref, v_oc_ref,\n",
    "            al_sc_ref, be_oc_ref, i_l_ref, i_o_ref, rs_ref, rsh_ref, a_ref,\n",
    "            temp_adjust, noct_temp)"
   ]
  },
  {
   "cell_type": "markdown",
   "metadata": {
    "id": "NjxiOVHTlzME"
   },
   "source": [
    "### Inverter Data"
   ]
  },
  {
   "cell_type": "code",
   "execution_count": 7,
   "metadata": {
    "executionInfo": {
     "elapsed": 12,
     "status": "ok",
     "timestamp": 1694009398078,
     "user": {
      "displayName": "Koami Soulemane Hayibo",
      "userId": "09397315604881879039"
     },
     "user_tz": 240
    },
    "id": "RfsZR1J7mUNX"
   },
   "outputs": [],
   "source": [
    "def getInverterParams(db_url, inv_name):\n",
    "\n",
    "    df = pd.read_csv(db_url, skiprows=[1,2])\n",
    "    df.set_index('Name', inplace=True)\n",
    "\n",
    "    inverter = df.loc[inverter_name]\n",
    "    v_ac_nom = inverter.Vac\n",
    "    v_dc_max = inverter.Vdcmax\n",
    "    i_dc_max = inverter.Idcmax\n",
    "    v_dc_nom = inverter.Vdco\n",
    "    p_cons = inverter.Pso\n",
    "    p_cons_nt = inverter.Pnt\n",
    "    p_ac_max = inverter.Paco\n",
    "    p_dc_max = inverter.Pdco\n",
    "    v_mp_max = inverter.Mppt_high\n",
    "    v_mp_min = inverter.Mppt_low\n",
    "    inv_c0 = inverter.C0\n",
    "    inv_c1 = inverter.C1\n",
    "    inv_c2 = inverter.C2\n",
    "    inv_c3 = inverter.C3\n",
    "\n",
    "    return (v_ac_nom, v_dc_max, i_dc_max, v_dc_nom, p_cons, p_cons_nt, p_ac_max,\n",
    "            p_dc_max, v_mp_max, v_mp_min, inv_c0, inv_c1, inv_c2, inv_c3)"
   ]
  },
  {
   "cell_type": "markdown",
   "metadata": {
    "id": "zTuvnxFWHTvC"
   },
   "source": [
    "## Sun Position Calculations"
   ]
  },
  {
   "cell_type": "markdown",
   "metadata": {
    "id": "MyjzB13GLtEO"
   },
   "source": [
    "### Adjustment Functions"
   ]
  },
  {
   "cell_type": "code",
   "execution_count": 8,
   "metadata": {
    "executionInfo": {
     "elapsed": 13,
     "status": "ok",
     "timestamp": 1694009398079,
     "user": {
      "displayName": "Koami Soulemane Hayibo",
      "userId": "09397315604881879039"
     },
     "user_tz": 240
    },
    "id": "6_GhKUhK0zGB"
   },
   "outputs": [],
   "source": [
    "def adjustTimeOfDay(row):\n",
    "    if row < 0:\n",
    "        return row + 24\n",
    "    elif row > 24:\n",
    "        return row - 24\n",
    "    else:\n",
    "        return row\n",
    "\n",
    "\n",
    "def adjustEclipticDeg(row):\n",
    "    a = row - 360 * (row//360)\n",
    "    if a >= 0:\n",
    "        return a\n",
    "    else:\n",
    "        return a + 360\n",
    "\n",
    "\n",
    "def adjustEclipticRad(row):\n",
    "    a = row - 2*pi * (row//(2*pi))\n",
    "    if a >= 0:\n",
    "        return a\n",
    "    else:\n",
    "        return a + 2*pi\n",
    "\n",
    "\n",
    "def adjustTime(row):\n",
    "    a = row - 24 * (row//24)\n",
    "    if a >= 0:\n",
    "        return a\n",
    "    else:\n",
    "        return a + 24\n",
    "\n",
    "\n",
    "def adjustRightAscen(col, eclong, obleq):\n",
    "    for i in range(len(col)):\n",
    "        if cosRad(eclong[i]) < 0:\n",
    "            col[i] = col[i] + pi\n",
    "        elif (cosRad(obleq[i]) * sinRad(eclong[i])) < 0:\n",
    "              col[i] = col[i] + 2*pi\n",
    "    return col\n",
    "\n",
    "\n",
    "def adjustHourAngle(row):\n",
    "    if row < -pi:\n",
    "        return row + 2*pi\n",
    "    elif row > pi:\n",
    "        return row - 2*pi\n",
    "    else:\n",
    "        return row\n",
    "\n",
    "\n",
    "def adjustAltAngleNoRefr(row):\n",
    "    if -1 <= row <= 1:\n",
    "        return asinRad(row)\n",
    "    elif row > 1:\n",
    "        return pi/2\n",
    "    else:\n",
    "        return -pi/2\n",
    "\n",
    "\n",
    "def adjustAltAngleRefrStp1(row):\n",
    "    if row > -0.56:\n",
    "        res = (3.51561*(0.1594 + 0.0196*row +\n",
    "                        0.00002*(row**2))) / (1 + 0.505*row + 0.0845*(row**2))\n",
    "        return res\n",
    "    else:\n",
    "        return 0.56\n",
    "\n",
    "\n",
    "def adjustAltAngleRefrStp2(row):\n",
    "    if row > 90:\n",
    "        return pi/2\n",
    "    else:\n",
    "        return (pi/180) * row\n",
    "\n",
    "\n",
    "def adjustAzimuthAngle(row, alpha_0, HA):\n",
    "    for i in range(len(row)):\n",
    "        if -1 <= row[i] <= 1:\n",
    "            row[i] = acosRad(row[i])\n",
    "        elif (row[i] < -1) or (cosRad(alpha_0[i]) == 0):\n",
    "            row[i] = pi\n",
    "        elif row[i] > 1:\n",
    "            row[i] = 0\n",
    "        else:\n",
    "            print(\"Nothing to do\")\n",
    "\n",
    "        if (-pi <= HA[i] <=0) or (HA[i] >= pi):\n",
    "            row[i] = pi-row[i]\n",
    "        elif 0 <= HA[i] <= pi:\n",
    "            row[i] = pi + row[i]\n",
    "    return row\n",
    "\n",
    "\n",
    "def findSunUpDown(hour, h_rise, h_set):\n",
    "    res = pd.Series(np.zeros(len(h_rise)))\n",
    "    for i in range(len(h_rise)):\n",
    "        if (hour[i] < h_rise[i]) or (hour[i] > h_set[i]):\n",
    "            res[i] = 0\n",
    "        else:\n",
    "            res[i] = 1\n",
    "    return res\n",
    "\n",
    "\n",
    "def adjustEOT(row):\n",
    "    if -0.33 <= row <= 0.33:\n",
    "        return row\n",
    "    elif row < -0.33:\n",
    "        return row + 24\n",
    "    elif row > 0.33:\n",
    "        return row - 24"
   ]
  },
  {
   "cell_type": "markdown",
   "metadata": {
    "id": "6ktsESNJLxzV"
   },
   "source": [
    "### Sun Position Angle Calculations Code"
   ]
  },
  {
   "cell_type": "markdown",
   "metadata": {
    "id": "b9Ir8xe7bXkX"
   },
   "source": [
    "#### Find Sun Position Function"
   ]
  },
  {
   "cell_type": "code",
   "execution_count": 9,
   "metadata": {
    "executionInfo": {
     "elapsed": 203,
     "status": "ok",
     "timestamp": 1694009398270,
     "user": {
      "displayName": "Koami Soulemane Hayibo",
      "userId": "09397315604881879039"
     },
     "user_tz": 240
    },
    "id": "JYuHUSr7HSwV"
   },
   "outputs": [],
   "source": [
    "def findSunPositions(t_z, lat, lon, year, mon, doy, hour, min):\n",
    "\n",
    "    #_______________________Effective Time Calculations________________________#\n",
    "    ## calculate time of day as UTC offset\n",
    "    tod = hour + min/60 - t_z\n",
    "    ## corrected time of day\n",
    "    tod = tod.apply(adjustTimeOfDay)\n",
    "    ## julian date of the timestep\n",
    "    julian = 32916.5 + 365*(year -\n",
    "                            1949) + (year - 1949)/4 + doy + tod/24 - 51545\n",
    "\n",
    "\n",
    "    #________________________________Sun Angles________________________________#\n",
    "    ## mean longitude [deg] and asjustment\n",
    "    mnlong = 280.46 + 0.9856474 * julian\n",
    "    mnlong = mnlong.apply(adjustEclipticDeg)\n",
    "    ## mean anomaly in [rad] and adjustment\n",
    "    mnanom = (pi/180) * (357.528 + 0.9856003 * julian)\n",
    "    mnanom = mnanom.apply(adjustEclipticRad)\n",
    "    ## ecliptic longitude [rad] and asjustment\n",
    "    eclong = (pi/180) * (mnlong + 1.915*sinRad(mnanom) + 0.02*sinRad(2*mnanom))\n",
    "    eclong = eclong.apply(adjustEclipticRad)\n",
    "    ## obliquity of ecliptic [rad]\n",
    "    obleq = (pi/180) * (23.439 - 0.0000004*julian)\n",
    "\n",
    "    ## celestial Coordinates\n",
    "    # right ascension [rad] and correction\n",
    "    ra = atanRad((cosRad(obleq) * sinRad(eclong)) / cosRad(eclong))\n",
    "    ra = adjustRightAscen(ra, eclong, obleq)\n",
    "    # declination angle [rad]\n",
    "    declin = asinRad(sinRad(obleq) * sinRad(eclong))\n",
    "\n",
    "    ## grenwhich mean siderial time [h]\n",
    "    gmst = 6.697375 + 0.0657098242*julian + tod\n",
    "    ## local mean siderial time [h] and adjustment\n",
    "    lmst = gmst + lon/15\n",
    "    lmst = lmst.apply(adjustTime)\n",
    "    ## hour angle [rad]\n",
    "    HA = 15*(pi/180)*lmst - ra\n",
    "    HA = HA.apply(adjustHourAngle)\n",
    "    # HA = HA.apply(adjustHourAngle)\n",
    "    ## sun altitude angle [rad] (not corrected for refraction)\n",
    "    alpha_0 = sinRad(declin) * sinRad(pi*lat/180) + \\\n",
    "                cosRad(declin) * cosRad(lat*pi/180) * cosRad(HA)\n",
    "    alpha_0 = alpha_0.apply(adjustAltAngleNoRefr)\n",
    "    ## sun altitude angle [rad] (corrected for refraction)\n",
    "    alpha_0d = 180 * alpha_0 / pi\n",
    "    r =  alpha_0d.apply(adjustAltAngleRefrStp1)\n",
    "    alpha = alpha_0d + r\n",
    "    alpha = alpha.apply(adjustAltAngleRefrStp2)\n",
    "    ## sun azimuth angle [rad]\n",
    "    gamma = (sinRad(alpha_0) * sinRad(lat*pi/180) - sinRad(declin)) / \\\n",
    "            (cosRad(alpha_0) * cosRad(lat*pi/180))\n",
    "    gamma = adjustAzimuthAngle(gamma, alpha_0, HA)\n",
    "    ## sun zenith angle [rad]\n",
    "    sun_zenith = (pi/2) - alpha\n",
    "\n",
    "\n",
    "    #________________________Sunrise and Sunset Hours__________________________#\n",
    "    ## sunrise hour angle [rad]\n",
    "    rise_HA = acosRad((cosDeg(90.833)/(cosDeg(lat)*cosRad(declin)) -\n",
    "                    tanDeg(lat) * tanRad(declin)))\n",
    "    ## equation of time [hours]\n",
    "    EOT = ((180/pi)*ra - mnlong)/15\n",
    "    EOT = (EOT.apply(adjustEOT))\n",
    "    ## sunrise and sunset hour\n",
    "    h_rise = 12 - (180/(15*pi))*rise_HA - (lon/15 - t_z) - EOT\n",
    "    h_set = 12 + (180/(15*pi))*rise_HA - (lon/15 - t_z) - EOT\n",
    "    ## sunposition up or down\n",
    "    sunup = findSunUpDown(hour, h_rise, h_set)\n",
    "\n",
    "    ## convert all angles in [deg]\n",
    "    sun_zenith = sun_zenith.apply(radToDeg)\n",
    "    alpha = alpha.apply(radToDeg)\n",
    "    declin = declin.apply(radToDeg)\n",
    "    gamma = gamma.apply(radToDeg)\n",
    "\n",
    "    ### output results\n",
    "    return sun_zenith, alpha, declin, gamma, sunup"
   ]
  },
  {
   "cell_type": "markdown",
   "metadata": {
    "id": "7MiP6Gz2fhws"
   },
   "source": [
    "### Extraterrestrial Radiation"
   ]
  },
  {
   "cell_type": "code",
   "execution_count": 10,
   "metadata": {
    "executionInfo": {
     "elapsed": 6,
     "status": "ok",
     "timestamp": 1694009398270,
     "user": {
      "displayName": "Koami Soulemane Hayibo",
      "userId": "09397315604881879039"
     },
     "user_tz": 240
    },
    "id": "l81vpJwWhKkt"
   },
   "outputs": [],
   "source": [
    "def calcExtraTerrIrr(doy, sun_zen):\n",
    "    extr_irr = 1367 * (1 + 0.033 * cosDeg(360*doy/365))\n",
    "    conditions = [(sun_zen > 0) & (sun_zen < 90),\n",
    "                sun_zen == 0,\n",
    "                (sun_zen < 0) | (sun_zen >= 90)]\n",
    "    choice_list = [extr_irr * cosDeg(sun_zen), extr_irr, 0]\n",
    "    extr_irr = pd.Series(np.select(conditions, choice_list))"
   ]
  },
  {
   "cell_type": "markdown",
   "metadata": {
    "id": "rqFdk-EXuX_U"
   },
   "source": [
    "### True Solar Time and Eccentricity Correction\n",
    "Provide Code if needed"
   ]
  },
  {
   "cell_type": "markdown",
   "metadata": {
    "id": "Iuz9632ouhpN"
   },
   "source": [
    "## Surface Angles"
   ]
  },
  {
   "cell_type": "code",
   "execution_count": 11,
   "metadata": {
    "executionInfo": {
     "elapsed": 6,
     "status": "ok",
     "timestamp": 1694009398270,
     "user": {
      "displayName": "Koami Soulemane Hayibo",
      "userId": "09397315604881879039"
     },
     "user_tz": 240
    },
    "id": "cRZKYy3jxkTC"
   },
   "outputs": [],
   "source": [
    "def findSurfaceAngles(tilt, azim, sun_zen, sun_azim, sunup):\n",
    "    #____________________________Tilt and Azimuth______________________________#\n",
    "    # both angles in [deg]\n",
    "    surf_tilt = tilt\n",
    "    surf_azim = azim\n",
    "\n",
    "    #____________________________Angle of Incidence____________________________#\n",
    "    aoi_temp = sinDeg(sun_zen) * cosDeg(sun_azim - surf_azim) * \\\n",
    "                sinDeg(surf_tilt) + cosDeg(sun_zen) * cosDeg(surf_tilt)\n",
    "\n",
    "    conditions = [aoi_temp < -1,\n",
    "                  aoi_temp > 1,\n",
    "                  (aoi_temp >= -1) & (aoi_temp <= 1)]\n",
    "    choice_list = [pi, 0, acosRad(aoi_temp)]\n",
    "    aoi_temp = pd.Series(np.select(conditions, choice_list))\n",
    "    aoi = aoi_temp.apply(radToDeg)\n",
    "\n",
    "    ## make angle of incidence 0 during nighttime\n",
    "    conditions = [sunup == 0,\n",
    "                  sunup == 1]\n",
    "    choice_list = [0, aoi]\n",
    "    aoi = pd.Series(np.select(conditions, choice_list))\n",
    "\n",
    "    return aoi, surf_tilt, surf_azim"
   ]
  },
  {
   "cell_type": "markdown",
   "metadata": {
    "id": "NBt7bCeajfk2"
   },
   "source": [
    "## Plan of Array (POA) Irradiance"
   ]
  },
  {
   "cell_type": "markdown",
   "metadata": {
    "id": "yvsaFqP6K3_5"
   },
   "source": [
    "### Helper Functions"
   ]
  },
  {
   "cell_type": "code",
   "execution_count": 12,
   "metadata": {
    "executionInfo": {
     "elapsed": 7,
     "status": "ok",
     "timestamp": 1694009398271,
     "user": {
      "displayName": "Koami Soulemane Hayibo",
      "userId": "09397315604881879039"
     },
     "user_tz": 240
    },
    "id": "pk42n2I7K3jQ"
   },
   "outputs": [],
   "source": [
    "def adjust_POA(row):\n",
    "    if row < 0:\n",
    "        return 0\n",
    "    else:\n",
    "        return row"
   ]
  },
  {
   "cell_type": "markdown",
   "metadata": {
    "id": "RWwuKxHpK7K9"
   },
   "source": [
    "### Main Function"
   ]
  },
  {
   "cell_type": "code",
   "execution_count": 13,
   "metadata": {
    "executionInfo": {
     "elapsed": 6,
     "status": "ok",
     "timestamp": 1694009398271,
     "user": {
      "displayName": "Koami Soulemane Hayibo",
      "userId": "09397315604881879039"
     },
     "user_tz": 240
    },
    "id": "mMuTt7gNk1jp"
   },
   "outputs": [],
   "source": [
    "def findPoaIrradiances(glob_irr, beam_irr, diff_irr, extr_irr, alb, aoi,\n",
    "                       surf_tilt, sun_zen, irr_mode=0, sky_model=0, use_alb=1):\n",
    "\n",
    "    #___________________________POA Beam Irradiance____________________________#\n",
    "    if irr_mode == 0:\n",
    "        poa_beam = beam_irr * cosDeg(aoi)\n",
    "    elif irr_mode == 2:\n",
    "        pass\n",
    "    poa_beam = poa_beam.apply(adjust_POA)\n",
    "\n",
    "\n",
    "    ## beam irradiance on horizontal surface\n",
    "    poa_beam_hor = beam_irr * cosDeg(sun_zen)\n",
    "    if (poa_beam_hor > extr_irr).any == True:\n",
    "        res = 'Error: Horizontal Beam Irradiation Greater Than' + \\\n",
    "              ' Extraterrestrial Irradiation'\n",
    "        return res\n",
    "\n",
    "\n",
    "    #________________________POA Sky Diffuse Irradiance________________________#\n",
    "    if irr_mode == 0:\n",
    "        diff_irr = diff_irr\n",
    "    elif irr_mode == 2:\n",
    "        pass\n",
    "    else:\n",
    "        pass\n",
    "\n",
    "    if sky_model == 0:\n",
    "        poa_diff = diff_irr * (( 1 + cosDeg(surf_tilt))/2)\n",
    "    elif sky_model == 1:\n",
    "        pass\n",
    "    elif sky_model == 2:\n",
    "        pass\n",
    "    else:\n",
    "        pass\n",
    "\n",
    "\n",
    "    #_________________________POA Reflected Irradiance_________________________#\n",
    "    poa_refl = alb * (beam_irr * cosDeg(sun_zen) +\n",
    "                      diff_irr) * ((1 - cosDeg(surf_tilt))/2)\n",
    "\n",
    "    return poa_beam, poa_diff, poa_refl"
   ]
  },
  {
   "cell_type": "markdown",
   "metadata": {
    "id": "t0wtTLYkPATL"
   },
   "source": [
    "## Effective POA Irradiance"
   ]
  },
  {
   "cell_type": "code",
   "execution_count": 14,
   "metadata": {
    "executionInfo": {
     "elapsed": 7,
     "status": "ok",
     "timestamp": 1694009398272,
     "user": {
      "displayName": "Koami Soulemane Hayibo",
      "userId": "09397315604881879039"
     },
     "user_tz": 240
    },
    "id": "GnegeWfCPDd8"
   },
   "outputs": [],
   "source": [
    "def findEffectivePoa(poa_beam, poa_diff, poa_refl, soiling=5, beam_timestep=0,\n",
    "                     beam_loss=0, diff_loss=0):\n",
    "    #_________________________Nominal POA Irradinace___________________________#\n",
    "    nom_irr = poa_beam + poa_diff + poa_refl\n",
    "\n",
    "    #_______________________Soiling and Shading Factors________________________#\n",
    "    theta_soiling = 1 - soiling/100\n",
    "    theta_beam = 1 - beam_loss/100\n",
    "    theta_diff = 1 - diff_loss/100\n",
    "\n",
    "    #___________________Irradiance After Shading And Losses____________________#\n",
    "    poa_beam_eff = poa_beam * theta_soiling * theta_beam * theta_diff\n",
    "    poa_diff_eff = poa_diff * theta_soiling * theta_beam * theta_diff\n",
    "    poa_refl_eff = poa_refl * theta_soiling * theta_beam * theta_diff\n",
    "    poa_tot = poa_beam_eff + poa_diff_eff + poa_refl_eff\n",
    "    poa_tot_diff = poa_diff_eff + poa_refl_eff\n",
    "\n",
    "    return (nom_irr, poa_beam_eff, poa_diff_eff, poa_refl_eff,\n",
    "            poa_tot, poa_tot_diff)"
   ]
  },
  {
   "cell_type": "markdown",
   "metadata": {
    "id": "BHgww_mW7Dw5"
   },
   "source": [
    "## Module DC Output"
   ]
  },
  {
   "cell_type": "markdown",
   "metadata": {
    "id": "SbzIjWOHPy6P"
   },
   "source": [
    "### Helper Functions"
   ]
  },
  {
   "cell_type": "markdown",
   "metadata": {
    "id": "5p7OkuElpf0s"
   },
   "source": [
    "#### NOCT Temperature Model"
   ]
  },
  {
   "cell_type": "code",
   "execution_count": 15,
   "metadata": {
    "executionInfo": {
     "elapsed": 7,
     "status": "ok",
     "timestamp": 1694009398272,
     "user": {
      "displayName": "Koami Soulemane Hayibo",
      "userId": "09397315604881879039"
     },
     "user_tz": 240
    },
    "id": "aQtLiqsUpkLI"
   },
   "outputs": [],
   "source": [
    "def findNoctTemp(pv_irr, tau_al, w_speed, air_temp, noct_temp, imp, vmp,\n",
    "                 pv_area, pv_height=2, standoff=5):\n",
    "\n",
    "    ## reference Efficiency\n",
    "    eta_ref = imp * vmp / (pv_area * 1000)\n",
    "    ## windspeed adjustment\n",
    "    if pv_height < 3:\n",
    "        w_speed_adj = 0.51 * w_speed\n",
    "    else:\n",
    "        w_speed_adj = 0.61 * w_speed\n",
    "    ## noct temperature adjustment\n",
    "    if 6.35 < standoff <= 8.89:\n",
    "        noct_temp_adj = noct_temp + 2\n",
    "    elif 3.81 < standoff <= 6.35:\n",
    "        noct_temp_adj = noct_temp + 6\n",
    "    elif 1.27 < standoff <= 3.81:\n",
    "        noct_temp_adj = noct_temp + 11\n",
    "    elif standoff <= 1.27:\n",
    "        noct_temp_adj = noct_temp + 18\n",
    "    else:\n",
    "        noct_temp_adj = noct_temp\n",
    "    ## cell temperature\n",
    "    cell_temp = air_temp + (pv_irr/800) * (noct_temp_adj - 20) * \\\n",
    "                (1 - eta_ref/tau_al) * 9.5/(5.7 + 3.8*w_speed_adj)\n",
    "    ## return result\n",
    "    return cell_temp"
   ]
  },
  {
   "cell_type": "markdown",
   "metadata": {
    "id": "D1Jf9slSHzOw"
   },
   "source": [
    "#### Maximum Power Voltage and Current Calculations"
   ]
  },
  {
   "cell_type": "code",
   "execution_count": 16,
   "metadata": {
    "executionInfo": {
     "elapsed": 143,
     "status": "ok",
     "timestamp": 1694009398408,
     "user": {
      "displayName": "Koami Soulemane Hayibo",
      "userId": "09397315604881879039"
     },
     "user_tz": 240
    },
    "id": "5FWPDvOYSfeK"
   },
   "outputs": [],
   "source": [
    "def findMaxPowerParamsSingle(r_sh, a, i_l, i_o, r_s, vref, iref):\n",
    "    \"\"\"\n",
    "        Optimization function that finds the mpp voltage and mpp current for\n",
    "        a given operating condition\n",
    "\n",
    "    \"\"\"\n",
    "\n",
    "\n",
    "    def my_func(x):\n",
    "        x1 = x[0]\n",
    "        x2 = x[1]\n",
    "        d1 = (x1 + x2*r_s) / a\n",
    "        d2 = (x1 + x2*r_s) / r_sh\n",
    "        g = i_l - i_o*(np.exp(d1) - 1) - d2 - x2\n",
    "        f = ((i_o/a)*(np.exp(d1)) + 1/r_sh) / (1 + r_s/r_sh +\n",
    "                                               (i_o*r_s/a)*np.exp(d1)) - x2/x1\n",
    "        return [f, g]\n",
    "\n",
    "\n",
    "    x0 = np.array([1, 1])\n",
    "\n",
    "    res = fsolve(my_func, x0, xtol=1e-4)\n",
    "\n",
    "    return res\n",
    "\n",
    "\n",
    "def findMaxPowerParams(r_sh, a, i_l, i_o, r_s, vref, iref, cell_temp):\n",
    "    v_mp = pd.Series(np.zeros(len(i_l)))\n",
    "    i_mp = pd.Series(np.zeros(len(i_l)))\n",
    "\n",
    "    for m in range(len(cell_temp)):\n",
    "        if isnan(cell_temp[m]):\n",
    "            v_mp[m] = 0\n",
    "            i_mp[m] = 0\n",
    "            continue\n",
    "        rsh_m = r_sh[m]\n",
    "        a_m = a[m]\n",
    "        il_m = i_l[m]\n",
    "        io_m = i_o[m]\n",
    "        rs_m = r_s\n",
    "        vref_m = vref\n",
    "        iref_m = iref\n",
    "        vi_mp = findMaxPowerParamsSingle(rsh_m, a_m, il_m, io_m, rs_m, vref_m,\n",
    "                                         iref_m)\n",
    "        v_mp[m] = vi_mp[0]\n",
    "        i_mp[m] = vi_mp[1]\n",
    "\n",
    "    return v_mp, i_mp"
   ]
  },
  {
   "cell_type": "markdown",
   "metadata": {
    "id": "NyKnLNi1P_GK"
   },
   "source": [
    "#### POA Front After Reflection"
   ]
  },
  {
   "cell_type": "code",
   "execution_count": 17,
   "metadata": {
    "executionInfo": {
     "elapsed": 19,
     "status": "ok",
     "timestamp": 1694009398408,
     "user": {
      "displayName": "Koami Soulemane Hayibo",
      "userId": "09397315604881879039"
     },
     "user_tz": 240
    },
    "id": "ZIZxM1n2PE_9"
   },
   "outputs": [],
   "source": [
    "def poaAfterReflection(poa_beam, poa_diff, poa_refl, aoi, surf_tilt, sunup):\n",
    "\n",
    "    #___________________Transmittance as a Function of Theta___________________#\n",
    "    def tau_alpha_calc(theta_i):\n",
    "        # refraction angle\n",
    "        theta_r = asinDeg(sinDeg(theta_i) / n)\n",
    "\n",
    "        theta_num = theta_r - theta_i\n",
    "        theta_den = theta_r + theta_i\n",
    "        tau_a = np.exp(-(K*L)/cosDeg(theta_r))\n",
    "        sin_val = ((sinDeg(theta_num))**2) / ((sinDeg(theta_den))**2)\n",
    "        tan_val = ((tanDeg(theta_num))**2) / ((tanDeg(theta_den))**2)\n",
    "        tau_t = 1 - 0.5*(sin_val + tan_val)\n",
    "        res = tau_a * tau_t\n",
    "        return res\n",
    "\n",
    "\n",
    "    #___________________________Constant Values _______________________________#\n",
    "    n = 1.526; L = 0.002; K = 4\n",
    "    #______________________Global Effective Irradiance_________________________#\n",
    "    ##################################################\n",
    "    #glob_irr = poa_beam + poa_diff + poa_refl #######\n",
    "    ##################################################\n",
    "    #______________________________Incide Angles_______________________________#\n",
    "    # sky-diffuse incident angle\n",
    "    theta_d = 59.7 - 0.1388*surf_tilt + 0.001497*np.square(surf_tilt)\n",
    "    # ground-reflected incident angle\n",
    "    theta_g = 90.0 - 0.5788*surf_tilt + 0.002693*np.square(surf_tilt)\n",
    "    #____________________Transmittance and Angle Modifiers_____________________#\n",
    "    ## normal surface\n",
    "    tau_al_n = np.exp(-K*L)*(1 - ((1-n)/(n+1))**2)\n",
    "    ## beam irradiance\n",
    "    tau_al_b = tau_alpha_calc(aoi)\n",
    "    conditions = [sunup == 0,\n",
    "                  sunup == 1]\n",
    "    choice_list = [0, tau_al_b]\n",
    "    tau_al_b = pd.Series(np.select(conditions, choice_list))\n",
    "    k_tau_b = tau_al_b / tau_al_n\n",
    "    ## sky diffuse\n",
    "    tau_al_d = tau_alpha_calc(theta_d)\n",
    "    k_tau_d = tau_al_d / tau_al_n\n",
    "    ## ground diffuse\n",
    "    tau_al_g = tau_alpha_calc(theta_g)\n",
    "    k_tau_g = tau_al_g / tau_al_n\n",
    "    ## irradiance absorbed by pv cell\n",
    "    pv_irr = poa_beam * k_tau_b + poa_diff * k_tau_d + \\\n",
    "                poa_refl * k_tau_g\n",
    "\n",
    "    return pv_irr"
   ]
  },
  {
   "cell_type": "markdown",
   "metadata": {
    "id": "lIYbDXenpcS6"
   },
   "source": [
    "### CEC Module Model"
   ]
  },
  {
   "cell_type": "code",
   "execution_count": 18,
   "metadata": {
    "executionInfo": {
     "elapsed": 19,
     "status": "ok",
     "timestamp": 1694009398409,
     "user": {
      "displayName": "Koami Soulemane Hayibo",
      "userId": "09397315604881879039"
     },
     "user_tz": 240
    },
    "id": "rBAYZ_eKGKEI"
   },
   "outputs": [],
   "source": [
    "def runCecModuleModel(poa_beam_eff, poa_diff_eff, poa_refl_eff, poa_beam_rear,\n",
    "                      poa_diff_rear, poa_refl_rear, aoi, sun_zen, sunup,\n",
    "                      amb_temp, noct_temp, w_speed, elv, hod, surf_tilt,\n",
    "                      i_mp_ref, v_mp_ref, v_oc_ref, i_sc_ref, al_sc_ref,\n",
    "                      be_oc_ref, i_l_ref, i_o_ref, rs_ref, a_ref, rsh_ref,\n",
    "                      temp_adjust, pv_area, pv_height=2, standoff=5):\n",
    "\n",
    "\n",
    "    #________________________Zenith Adjustment Function________________________#\n",
    "    def adjustZenith(row):\n",
    "        if row < 0:\n",
    "            return 0\n",
    "        elif row > 86:\n",
    "            return 86\n",
    "        else:\n",
    "            return row\n",
    "\n",
    "\n",
    "    pv_irr_front = poaAfterReflection(poa_beam_eff, poa_diff_eff, poa_refl_eff,\n",
    "                                      aoi, surf_tilt, sunup)\n",
    "\n",
    "    ###########################################################################\n",
    "    (poa_beam_rear, poa_diff_rear, poa_refl_rear) = (0, 0, 0)\n",
    "    pv_irr_rear = 0\n",
    "    ###########################################################################\n",
    "\n",
    "    pv_irr = pv_irr_front + pv_irr_rear\n",
    "    ## Global Effective Irradiance\n",
    "    glob_irr = poa_beam_eff + poa_diff_eff + poa_refl_eff + poa_beam_rear + \\\n",
    "                poa_diff_rear + poa_refl_rear\n",
    "    ## transmittance absorptance product\n",
    "    tau_alpha = 0.9 * pv_irr / glob_irr\n",
    "    conditions = [tau_alpha.isna(),\n",
    "                    tau_alpha.isna() == 0]\n",
    "    choice_list = [0, tau_alpha]\n",
    "    tau_alpha = pd.Series(np.select(conditions, choice_list))\n",
    "\n",
    "    #___________________________Air Mass Calculation___________________________#\n",
    "    ## constrain zenith angle\n",
    "    sun_zen = sun_zen.apply(adjustZenith)\n",
    "    ## air mass with sea level correction factor\n",
    "    air_mass = np.exp(-0.0001184*elv) * \\\n",
    "                (cosDeg(sun_zen) + 0.5057*((96.080 - sun_zen)**(-1.634)))**(-1)\n",
    "    ## air mass modifiers\n",
    "    a0 = 0.918093; a1 = 0.086257; a2 = -0.024459; a3 = 0.002816; a4 = -0.000126\n",
    "    ## modified air mass\n",
    "    air_mass_mod = a0 + a1 * air_mass + a2 * air_mass**2 + a3 * air_mass**3 + \\\n",
    "                    a4 * air_mass**4\n",
    "    ## adjusted effective transmitted irradiance\n",
    "    pv_irr_adj = air_mass_mod * pv_irr\n",
    "            # return air_mass_mod\n",
    "    if (pv_irr_adj > 1).any == False:\n",
    "        res = 'Error: Wrong Value of Effective Transmitted Irradiance'\n",
    "        return res\n",
    "    #___________________________PV Module Calculations_________________________#\n",
    "    mu_i_sc = al_sc_ref * (1 - temp_adjust/100)\n",
    "    be_v_oc = be_oc_ref * (1 + temp_adjust/100)\n",
    "    ## cell temperature\n",
    "    cell_temp = findNoctTemp(pv_irr_adj, tau_alpha, w_speed, amb_temp,\n",
    "                             noct_temp, i_mp_ref, v_mp_ref, pv_area,\n",
    "                             pv_height=2, standoff=5)\n",
    "    conditions = [cell_temp.isna(),\n",
    "                cell_temp.isna() == 0]\n",
    "    choice_list = [0, cell_temp]\n",
    "    cell_temp_adj = pd.Series(np.select(conditions, choice_list))\n",
    "    cell_temp_K = cell_temp_adj + 273.15\n",
    "    ## reference temperature\n",
    "    ref_temp = 25 + 273.15\n",
    "    ## light current\n",
    "    i_l = (pv_irr_adj/1000) * (i_l_ref + mu_i_sc * (cell_temp_K - ref_temp))\n",
    "    ## diode reverse saturation current\n",
    "    # boltzman constant\n",
    "    k = 8.618*10**-5\n",
    "    # cell bandgap\n",
    "    e_gap = 1.12 * (1 - 0.0002677*(cell_temp_K - ref_temp))\n",
    "    # reverse current\n",
    "    i_o = i_o_ref * (cell_temp_K/ref_temp)**3 * np.exp((1/k) *\n",
    "                                                       (1.12/ref_temp -\n",
    "                                                        e_gap/cell_temp_K))\n",
    "\n",
    "    ## single diode module current at Voc (I=0)\n",
    "\n",
    "    ## ideality factor\n",
    "    a = a_ref * cell_temp_K / ref_temp\n",
    "    ## shunt resistance\n",
    "    r_sh = rsh_ref * 1000 / pv_irr_adj\n",
    "    ## short circuit current\n",
    "\n",
    "    ## series resistance\n",
    "    r_s = rs_ref\n",
    "    i_l = i_l\n",
    "\n",
    "    ## get maximum point values of voltage and current\n",
    "    v_mp, i_mp = findMaxPowerParams(r_sh, a, i_l, i_o, r_s, v_oc_ref,\n",
    "                                    i_sc_ref, cell_temp)\n",
    "    eta_m = i_mp * v_mp / (pv_area * 1000)\n",
    "    p_mp = i_mp * v_mp\n",
    "    return v_mp, i_mp, eta_m, p_mp, pv_irr_adj, cell_temp_adj"
   ]
  },
  {
   "cell_type": "markdown",
   "metadata": {
    "id": "6PFpSyZaa4u7"
   },
   "source": [
    "## Array DC Output"
   ]
  },
  {
   "cell_type": "code",
   "execution_count": 19,
   "metadata": {
    "executionInfo": {
     "elapsed": 19,
     "status": "ok",
     "timestamp": 1694009398410,
     "user": {
      "displayName": "Koami Soulemane Hayibo",
      "userId": "09397315604881879039"
     },
     "user_tz": 240
    },
    "id": "mDJ8n3ALbBUb"
   },
   "outputs": [],
   "source": [
    "def findOneArrayOutput(v_mp, p_mp, mism_loss=2, diode_conn_loss=0.5,\n",
    "                       dc_wiring_loss=2, track_loss=0, name_plate_loss=0,\n",
    "                       dc_optim_loss=0, snow_loss=0, mod_per_str=6,\n",
    "                       parallel_str=3):\n",
    "\n",
    "    #____________________________Array Calculations____________________________#\n",
    "    ## array dc voltage\n",
    "    v_dc = v_mp * mod_per_str\n",
    "    ## array oc voltage and sc current\n",
    "\n",
    "    ## array dc loss factors calculation\n",
    "    f_dc1 = 1 - mism_loss/100\n",
    "    f_dc2 = 1 - diode_conn_loss/100\n",
    "    f_dc3 = 1 - dc_wiring_loss/100\n",
    "    f_dc4 = 1 - track_loss/100\n",
    "    f_dc5 = 1 - name_plate_loss/100\n",
    "    f_dc6 = 1 - dc_optim_loss/100\n",
    "    f_dc = f_dc1 * f_dc2 * f_dc3 * f_dc4 * f_dc5 * f_dc6\n",
    "    ## snow loss factor calculation\n",
    "    f_snow = 1 - snow_loss/100\n",
    "    ## subarray mismatch losses\n",
    "\n",
    "    ## array power output\n",
    "    p_dc = mod_per_str * parallel_str * p_mp * f_dc * f_snow\n",
    "    return v_dc, p_dc"
   ]
  },
  {
   "cell_type": "markdown",
   "metadata": {
    "id": "FifNtiLali4E"
   },
   "source": [
    "## Inverter AC Output"
   ]
  },
  {
   "cell_type": "code",
   "execution_count": 20,
   "metadata": {
    "executionInfo": {
     "elapsed": 20,
     "status": "ok",
     "timestamp": 1694009398411,
     "user": {
      "displayName": "Koami Soulemane Hayibo",
      "userId": "09397315604881879039"
     },
     "user_tz": 240
    },
    "id": "n4VyALoSqi25"
   },
   "outputs": [],
   "source": [
    "def runCecInverterModel(p_dc, v_dc, v_ac_nom, v_dc_max, i_dc_max, v_dc_nom,\n",
    "                        p_cons, p_cons_nt, p_ac_max, p_dc_max, v_mp_max,\n",
    "                        v_mp_min, inv_c0, inv_c1, inv_c2, inv_c3, datasheet=0,\n",
    "                        lossless=0, clip_en=1, night_cons=1):\n",
    "\n",
    "    #____________________________SANDIA Model CEC______________________________#\n",
    "    ## model parameters\n",
    "    if datasheet == 1:\n",
    "        inv_c0 = 0\n",
    "        inv_c1 = 0\n",
    "        inv_c2 = 0\n",
    "        inv_c3 = 0\n",
    "    A = p_dc_max * ( 1 + inv_c1 * (v_dc - v_dc_nom))\n",
    "    B = p_cons * ( 1 + inv_c2 * (v_dc - v_dc_nom))\n",
    "    if lossless:\n",
    "        B = 0\n",
    "    C = inv_c0 * (1 + inv_c3 * (v_dc - v_dc_nom))\n",
    "\n",
    "    ## model equation\n",
    "    p_ac = ((p_ac_max/(A-B)) - C*(A-B)) * (p_dc - B) + C * (p_dc - B)**2\n",
    "    ## operating power losses\n",
    "    B = 0\n",
    "    p_ac_no_loss = ((p_ac_max/(A-B)) - C*(A-B)) * (p_dc - B) + C * (p_dc - B)**2\n",
    "    p_ac_loss = p_ac_no_loss - p_ac\n",
    "    ## adjust ac power for night operation consumption\n",
    "    p_ac_adj = p_ac * 1\n",
    "    if night_cons:\n",
    "        conditions = [p_dc < p_cons,\n",
    "                    p_dc >= p_cons]\n",
    "        choice_list = [-p_cons_nt, p_ac]\n",
    "        p_ac_adj = pd.Series(np.select(conditions, choice_list))\n",
    "    ## clipping losses\n",
    "    p_ac_no_clip = p_ac_adj * 1\n",
    "    if clip_en:\n",
    "        conditions = [p_ac_adj > p_ac_max,\n",
    "                    p_ac_adj <= p_ac_max]\n",
    "        choice_list = [p_ac_max, p_ac_adj]\n",
    "        p_ac_adj = pd.Series(np.select(conditions, choice_list))\n",
    "    p_ac_clip = p_ac_no_clip - p_ac_adj\n",
    "    ## inverter efficiency and adjustment\n",
    "    eta_inv = p_ac_adj / p_dc\n",
    "    conditions = [(eta_inv.isna()) | (eta_inv < 0),\n",
    "                eta_inv.isna() == 0]\n",
    "    choice_list = [0, eta_inv]\n",
    "    eta_inv = pd.Series(np.select(conditions, choice_list))\n",
    "\n",
    "    return p_ac_adj, eta_inv, p_ac_clip, p_ac_loss"
   ]
  },
  {
   "cell_type": "markdown",
   "metadata": {
    "id": "2-zzsxVh99ZZ"
   },
   "source": [
    "## Year 1 Analysis of Output Power"
   ]
  },
  {
   "cell_type": "code",
   "execution_count": 21,
   "metadata": {
    "executionInfo": {
     "elapsed": 19,
     "status": "ok",
     "timestamp": 1694009398411,
     "user": {
      "displayName": "Koami Soulemane Hayibo",
      "userId": "09397315604881879039"
     },
     "user_tz": 240
    },
    "id": "amwIpKxfIYdx"
   },
   "outputs": [],
   "source": [
    "def outputYearOne(mon, day, hour, doy, p_ac, p_dc):\n",
    "    year_1_power = pd.DataFrame(mon)\n",
    "    year_1_power['Day'] = day\n",
    "    year_1_power['Hour'] = hour\n",
    "    year_1_power['day_of_year'] = doy\n",
    "    year_1_power['Power_DC'] = p_dc\n",
    "    annual_dc_energy = p_dc.sum()/1000\n",
    "    annual_dc_energy = p_dc.sum()/1000\n",
    "    monthly_dc_energy = year_1_power.groupby('Month')['Power_DC'].sum()/1000\n",
    "    # monthly_dc_energy = monthly_dc_energy.to_frame()\n",
    "    daily_dc_energy = year_1_power.groupby('day_of_year')['Power_DC'].sum()/1000\n",
    "\n",
    "    return (annual_dc_energy, monthly_dc_energy,\n",
    "            daily_dc_energy, annual_dc_energy)"
   ]
  },
  {
   "cell_type": "markdown",
   "metadata": {
    "id": "ujb-sBG49gei"
   },
   "source": [
    "## Lifetime Analysis of output Power"
   ]
  },
  {
   "cell_type": "code",
   "execution_count": 22,
   "metadata": {
    "executionInfo": {
     "elapsed": 19,
     "status": "ok",
     "timestamp": 1694009398411,
     "user": {
      "displayName": "Koami Soulemane Hayibo",
      "userId": "09397315604881879039"
     },
     "user_tz": 240
    },
    "id": "2NYDjxpn9mJB"
   },
   "outputs": [],
   "source": [
    "def outputLifetime(lifetime, degr_rate, annual_dc_energy):\n",
    "\n",
    "    lifetime_dc_energy = annual_dc_energy\n",
    "    annual_dc_energy_y = annual_dc_energy\n",
    "    for i in range(lifetime):\n",
    "        annual_dc_energy_y = annual_dc_energy_y * (1 - degr_rate)\n",
    "        lifetime_dc_energy += annual_dc_energy_y\n",
    "\n",
    "    return lifetime_dc_energy"
   ]
  },
  {
   "cell_type": "markdown",
   "metadata": {
    "id": "9KISAa78XHVn"
   },
   "source": [
    "## Simulation"
   ]
  },
  {
   "cell_type": "code",
   "execution_count": 23,
   "metadata": {
    "executionInfo": {
     "elapsed": 20,
     "status": "ok",
     "timestamp": 1694009398412,
     "user": {
      "displayName": "Koami Soulemane Hayibo",
      "userId": "09397315604881879039"
     },
     "user_tz": 240
    },
    "id": "09_JKQMPXJIB"
   },
   "outputs": [],
   "source": [
    "def runSimulation(weather_url, module_name, inverter_name, tilt, azimuth,\n",
    "                  mod_wgt, g, air_density, h_high, lifetime, degr_rate_percent,\n",
    "                  mism_loss, diode_conn_loss, dc_wiring_loss, track_loss,\n",
    "                  name_plate_loss, dc_optim_loss, snow_loss, mod_per_str,\n",
    "                  parallel_str):\n",
    "\n",
    "    ## extract weather data\n",
    "    res = extractWeatherData(weather_url)\n",
    "    (lat, lon, t_z, elv, year, mon, day, hour, min, doy, w_speed, w_dir,\n",
    "     amb_temp, albedo, beam_irr, diffuse_irr, global_irr) = res\n",
    "\n",
    "    ## get modules parameters\n",
    "    res = getModuleParams(module_database_url, module_name)\n",
    "    (bifacial, pv_area, i_mp_ref, i_sc_ref, v_mp_ref, v_oc_ref, al_sc_ref,\n",
    "    be_oc_ref, i_l_ref, i_o_ref, rs_ref, rsh_ref, a_ref, temp_adjust,\n",
    "    noct_temp) = res\n",
    "\n",
    "    ## get inverter parameters\n",
    "    res = getInverterParams(inverter_database_url, inverter_name)\n",
    "    (v_ac_nom, v_dc_max, i_dc_max, v_dc_nom, p_cons, p_cons_nt, p_ac_max,\n",
    "     p_dc_max, v_mp_max, v_mp_min, inv_c0, inv_c1, inv_c2, inv_c3) = res\n",
    "\n",
    "    ## sun angles\n",
    "    (sun_zen, sun_alt, sun_decl, sun_azim,\n",
    "     sunup) = findSunPositions(t_z, lat, lon, year, mon, doy, hour, min)\n",
    "\n",
    "    ## extraterrestrial irradiation\n",
    "    extr_irr = calcExtraTerrIrr(doy, sun_zen)\n",
    "\n",
    "    ## surface angles\n",
    "    aoi, surf_tilt, surf_azim = findSurfaceAngles(tilt, azimuth, sun_zen,\n",
    "                                                  sun_azim, sunup)\n",
    "\n",
    "    ## poa front irradiances\n",
    "    (poa_beam, poa_diffuse,\n",
    "     poa_reflected) = findPoaIrradiances(global_irr, beam_irr, diffuse_irr,\n",
    "                                         extr_irr, albedo, aoi, surf_tilt,\n",
    "                                         sun_zen)\n",
    "\n",
    "    (poa_beam_rear, poa_diff_rear, poa_refl_rear) = (0, 0, 0)\n",
    "\n",
    "    ## effective poa irradiances front and back\n",
    "    res = findEffectivePoa(poa_beam, poa_diffuse, poa_reflected, soiling=5,\n",
    "                            beam_timestep=0, beam_loss=0, diff_loss=0)\n",
    "    (nom_irr, poa_beam_eff, poa_diff_eff, poa_refl_eff, poa_tot,\n",
    "     poa_tot_diff) = res\n",
    "\n",
    "    ## run module model to get operation parameters\n",
    "    res = runCecModuleModel(poa_beam_eff, poa_diff_eff, poa_refl_eff,\n",
    "                            poa_beam_rear, poa_diff_rear, poa_refl_rear, aoi,\n",
    "                            sun_zen, sunup, amb_temp, noct_temp, w_speed, elv,\n",
    "                            hour, surf_tilt, i_mp_ref, v_mp_ref, v_oc_ref,\n",
    "                            i_sc_ref, al_sc_ref, be_oc_ref, i_l_ref, i_o_ref,\n",
    "                            rs_ref, a_ref, rsh_ref, temp_adjust, pv_area,\n",
    "                            pv_height=3.65, standoff=9)\n",
    "    v_mp, i_mp, eta_m, p_mp, pv_irr_adj, cell_temp_adj = res\n",
    "\n",
    "    ## find array parameters\n",
    "    v_dc, p_dc = findOneArrayOutput(v_mp, p_mp, mism_loss, diode_conn_loss,\n",
    "                                    dc_wiring_loss, track_loss, name_plate_loss,\n",
    "                                    dc_optim_loss, snow_loss, mod_per_str,\n",
    "                                    parallel_str)\n",
    "\n",
    "    ## run inverter model to get ac output\n",
    "    res = runCecInverterModel(p_dc, v_dc, v_ac_nom, v_dc_max, i_dc_max,\n",
    "                              v_dc_nom, p_cons, p_cons_nt, p_ac_max, p_dc_max,\n",
    "                              v_mp_max, v_mp_min, inv_c0, inv_c1, inv_c2,\n",
    "                              inv_c3, datasheet=0, lossless=0, clip_en=1,\n",
    "                              night_cons=1)\n",
    "    p_ac, eta_inv, p_ac_clip, p_ac_loss = res\n",
    "\n",
    "    ## annual output\n",
    "    (annual_dc_energy, monthly_dc_energy,\n",
    "     daily_dc_energy, annual_dc_energy) = outputYearOne(mon, day, hour, doy,\n",
    "                                                        p_ac, p_dc)\n",
    "\n",
    "    ## lifetime output\n",
    "    lifetime = lifetime + 1\n",
    "    degr_rate = degr_rate_percent/100\n",
    "    lifetime_dc_energy = outputLifetime(lifetime, degr_rate, annual_dc_energy)\n",
    "\n",
    "    return (annual_dc_energy, monthly_dc_energy, daily_dc_energy,\n",
    "            lifetime_dc_energy, surf_tilt, v_mp)"
   ]
  },
  {
   "cell_type": "code",
   "execution_count": 24,
   "metadata": {
    "executionInfo": {
     "elapsed": 20,
     "status": "ok",
     "timestamp": 1694009398412,
     "user": {
      "displayName": "Koami Soulemane Hayibo",
      "userId": "09397315604881879039"
     },
     "user_tz": 240
    },
    "id": "8lipRXNwj03L"
   },
   "outputs": [],
   "source": [
    "module_database_url = 'CEC_Modules.csv'\n",
    "inverter_database_url = 'CEC_Inverters.csv'\n",
    "\n",
    "module_name = 'Heliene 144HC-470'\n",
    "inverter_name = 'SolarEdge Technologies Ltd : SE6000x [208V]'\n",
    "\n",
    "city_name = 'London_Ontario'\n",
    "# weather_url = 'london_ontario_42.984267_-81.247534_psm3-tmy_60_tmy.csv'\n",
    "weather_url_dict = {\n",
    "    'bunny': ['Stanford', 'stanford_37.4314_-122.169_psm3-tmy_60_tmy.csv', 30],\n",
    "    'pyramid': ['Cairo', 'cairo_msg-iodc_60_2019.csv', 26],\n",
    "    'rhodes': ['Athens', 'athens_msg-iodc_60_2019.csv', 30],\n",
    "    'samothrace': ['Athens', 'athens_msg-iodc_60_2019.csv', 30],\n",
    "    'thinker-extremely-low': ['Paris', 'paris_msg-iodc_60_2019.csv', 30], \n",
    "    'thinker-low': ['Paris', 'paris_msg-iodc_60_2019.csv', 30],\n",
    "    'thinker-med': ['Paris', 'paris_msg-iodc_60_2019.csv', 30],\n",
    "    'tree-top': ['Lome', 'lome_msg-iodc_60_2019.csv', 10],\n",
    "    'inukshuk': ['London', 'london_ontario_42.984267_-81.247534_psm3-tmy_60_tmy.csv', 34],\n",
    "    'inukshuk_toronto': ['Toronto', 'toronto_43.6519_-79.3817_psm3-tmy_60_tmy.csv', 35]\n",
    "                   }                             "
   ]
  },
  {
   "cell_type": "code",
   "execution_count": 25,
   "metadata": {
    "colab": {
     "base_uri": "https://localhost:8080/"
    },
    "executionInfo": {
     "elapsed": 18353,
     "status": "ok",
     "timestamp": 1694009503445,
     "user": {
      "displayName": "Koami Soulemane Hayibo",
      "userId": "09397315604881879039"
     },
     "user_tz": 240
    },
    "id": "vHuGLgHdzQyu",
    "outputId": "15757ad9-f449-4cdd-f107-a0b2663095cd"
   },
   "outputs": [
    {
     "name": "stdout",
     "output_type": "stream",
     "text": [
      "Enter File Name or Enter 0 to Exit:...inukshuk\n",
      "inukshuk has been added to the model list\n",
      "Enter File Name or Enter 0 to Exit:...inukshuk_toronto\n",
      "inukshuk_toronto is not a valid file name, please try again\n",
      "Enter File Name or Enter 0 to Exit:...inukshuk_toronto\n",
      "inukshuk_toronto has been added to the model list\n",
      "Enter File Name or Enter 0 to Exit:...0\n"
     ]
    },
    {
     "data": {
      "text/plain": [
       "['inukshuk-sam-input.txt', 'inukshuk_toronto-sam-input.txt']"
      ]
     },
     "execution_count": 25,
     "metadata": {},
     "output_type": "execute_result"
    }
   ],
   "source": [
    "building_model_list = []\n",
    "while True:\n",
    "    my_file_name = input(\"Enter File Name or Enter 0 to Exit:...\")\n",
    "    \n",
    "    if(my_file_name == '0'):\n",
    "        break\n",
    "        print(\"Exited loop successfully\")\n",
    "    elif(os.path.exists(my_file_name+'-sam-input.txt')):\n",
    "        building_model_list.append(my_file_name+'-sam-input.txt')\n",
    "        print(my_file_name + \" has been added to the model list\")\n",
    "    else:\n",
    "        print(my_file_name + \" is not a valid file name, please try again\")\n",
    "    \n",
    "\n",
    "building_model_list\n"
   ]
  },
  {
   "cell_type": "code",
   "execution_count": 26,
   "metadata": {
    "colab": {
     "base_uri": "https://localhost:8080/"
    },
    "executionInfo": {
     "elapsed": 134309,
     "status": "ok",
     "timestamp": 1694015394089,
     "user": {
      "displayName": "Koami Soulemane Hayibo",
      "userId": "09397315604881879039"
     },
     "user_tz": 240
    },
    "id": "Vi7w_9yeXMcw",
    "outputId": "ae95f3ea-9eef-4a4d-a355-822fd3181661"
   },
   "outputs": [
    {
     "name": "stdout",
     "output_type": "stream",
     "text": [
      "---------------Simulating inukshuk-sam-input in London--------------\n",
      "iter = 1\n",
      "351.99986072878323\n",
      "iter = 2\n",
      "1.9998607287832328\n",
      "iter = 3\n",
      "11.999860728783233\n",
      "iter = 4\n",
      "21.999860728783233\n",
      "iter = 5\n",
      "31.999860728783233\n",
      "iter = 6\n",
      "41.99986072878323\n",
      "iter = 7\n",
      "51.99986072878323\n",
      "iter = 8\n",
      "61.99986072878323\n",
      "iter = 9\n",
      "71.99986072878323\n",
      "iter = 10\n",
      "81.99986072878323\n",
      "iter = 11\n",
      "91.99986072878323\n",
      "iter = 12\n",
      "101.99986072878323\n",
      "iter = 13\n",
      "111.99986072878323\n",
      "iter = 14\n",
      "121.99986072878323\n",
      "iter = 15\n",
      "131.99986072878323\n",
      "iter = 16\n",
      "141.99986072878323\n",
      "iter = 17\n",
      "151.99986072878323\n",
      "iter = 18\n",
      "161.99986072878323\n",
      "iter = 19\n",
      "171.99986072878323\n",
      "iter = 20\n",
      "181.99986072878323\n",
      "iter = 21\n",
      "191.99986072878323\n",
      "iter = 22\n",
      "201.99986072878323\n",
      "iter = 23\n",
      "211.99986072878323\n",
      "iter = 24\n",
      "221.99986072878323\n",
      "iter = 25\n",
      "231.99986072878323\n",
      "iter = 26\n",
      "241.99986072878323\n",
      "iter = 27\n",
      "251.99986072878323\n",
      "iter = 28\n",
      "261.99986072878323\n",
      "iter = 29\n",
      "271.99986072878323\n",
      "iter = 30\n",
      "281.99986072878323\n",
      "iter = 31\n",
      "291.99986072878323\n",
      "iter = 32\n",
      "301.99986072878323\n",
      "iter = 33\n",
      "311.99986072878323\n",
      "iter = 34\n",
      "321.99986072878323\n",
      "iter = 35\n",
      "331.99986072878323\n",
      "iter = 36\n",
      "341.99986072878323\n",
      "Iteration Complete\n",
      "Simulation Time for inukshuk-sam-input: 16698.96\n",
      "---------------Simulating inukshuk_toronto-sam-input in Toronto--------------\n",
      "iter = 1\n",
      "351.99986072878323\n",
      "iter = 2\n",
      "1.9998607287832328\n",
      "iter = 3\n",
      "11.999860728783233\n",
      "iter = 4\n",
      "21.999860728783233\n",
      "iter = 5\n",
      "31.999860728783233\n",
      "iter = 6\n",
      "41.99986072878323\n",
      "iter = 7\n",
      "51.99986072878323\n",
      "iter = 8\n",
      "61.99986072878323\n",
      "iter = 9\n",
      "71.99986072878323\n",
      "iter = 10\n",
      "81.99986072878323\n",
      "iter = 11\n",
      "91.99986072878323\n",
      "iter = 12\n",
      "101.99986072878323\n",
      "iter = 13\n",
      "111.99986072878323\n",
      "iter = 14\n",
      "121.99986072878323\n",
      "iter = 15\n",
      "131.99986072878323\n",
      "iter = 16\n",
      "141.99986072878323\n",
      "iter = 17\n",
      "151.99986072878323\n",
      "iter = 18\n",
      "161.99986072878323\n",
      "iter = 19\n",
      "171.99986072878323\n",
      "iter = 20\n",
      "181.99986072878323\n",
      "iter = 21\n",
      "191.99986072878323\n",
      "iter = 22\n",
      "201.99986072878323\n",
      "iter = 23\n",
      "211.99986072878323\n",
      "iter = 24\n",
      "221.99986072878323\n",
      "iter = 25\n",
      "231.99986072878323\n",
      "iter = 26\n",
      "241.99986072878323\n",
      "iter = 27\n",
      "251.99986072878323\n",
      "iter = 28\n",
      "261.99986072878323\n",
      "iter = 29\n",
      "271.99986072878323\n",
      "iter = 30\n",
      "281.99986072878323\n",
      "iter = 31\n",
      "291.99986072878323\n",
      "iter = 32\n",
      "301.99986072878323\n",
      "iter = 33\n",
      "311.99986072878323\n",
      "iter = 34\n",
      "321.99986072878323\n",
      "iter = 35\n",
      "331.99986072878323\n",
      "iter = 36\n",
      "341.99986072878323\n",
      "Iteration Complete\n",
      "Simulation Time for inukshuk_toronto-sam-input: 21477.28\n"
     ]
    }
   ],
   "source": [
    "@long_running\n",
    "\n",
    "def my_long_sim_code():\n",
    "    azim_step = 10\n",
    "\n",
    "\n",
    "    writer1 = pd.ExcelWriter('azimuth_opt_results.xlsx')\n",
    "    writer2 = pd.ExcelWriter('annual_results.xlsx')\n",
    "\n",
    "    \n",
    "    for file_path in building_model_list:\n",
    "        \n",
    "        sim_start = time.time()\n",
    "        \n",
    "        file_path_short = file_path[0:-14]\n",
    "        weather_url = weather_url_dict[file_path_short][1]\n",
    "        building_location = weather_url_dict[file_path_short][0]\n",
    "\n",
    "        print('---------------Simulating ' + file_path[0:-4] + ' in ' + building_location + '--------------')\n",
    "        # file_path = \"output.txt\"\n",
    "        my_data_list = extract_list_from_file(file_path)\n",
    "\n",
    "        my_df = pd.DataFrame(my_data_list,\n",
    "                            columns=['tilt_angles',\n",
    "                                    'azim_angles',\n",
    "                                    'num_cells'\n",
    "                                    ]\n",
    "                            )\n",
    "        my_df.tilt_angles = my_df.tilt_angles.apply(radToDeg)\n",
    "        my_df.azim_angles = my_df.azim_angles.apply(radToDeg)\n",
    "\n",
    "        my_dict = my_df.transpose().to_dict('list')\n",
    "        new_keys = [\"Face \"+ str(x) for x in my_dict.keys()]\n",
    "        my_params_list = list(my_dict.values())\n",
    "        my_building_faces = dict(zip(new_keys, my_params_list))\n",
    "\n",
    "        annual_dc_energy_dic = {}\n",
    "        monthly_dc_energy_dic = {}\n",
    "        daily_dc_energy_dic = {}\n",
    "\n",
    "\n",
    "        for a_face in my_building_faces:\n",
    "            tilt = my_building_faces[a_face][0]\n",
    "            azimuth = my_building_faces[a_face][1]\n",
    "            num_modules = my_building_faces[a_face][2]\n",
    "            ############################################################################\n",
    "            mod_wgt = 20\n",
    "            g = 10\n",
    "            air_density = 1.225\n",
    "            h_high = 1.04+0.15\n",
    "            ############################################################################\n",
    "\n",
    "            lifetime = 26\n",
    "            degr_rate_percent = 0.5\n",
    "\n",
    "            #________________________________DC Losses_________________________________#\n",
    "            ## mismatch losses in percentage\n",
    "            mism_loss = 2\n",
    "            diode_conn_loss = 0.5\n",
    "            dc_wiring_loss = 2\n",
    "            track_loss = 0\n",
    "            name_plate_loss = 0\n",
    "            dc_optim_loss = 0\n",
    "            snow_loss = 0\n",
    "            #_____________________________Array Parameters_____________________________#\n",
    "            ## modules per string\n",
    "            mod_per_str = 1\n",
    "            parallel_str = 1\n",
    "            res = runSimulation(weather_url, module_name, inverter_name, tilt, azimuth,\n",
    "                            mod_wgt, g, air_density, h_high, lifetime, degr_rate_percent,\n",
    "                            mism_loss, diode_conn_loss, dc_wiring_loss, track_loss,\n",
    "                            name_plate_loss, dc_optim_loss, snow_loss, mod_per_str,\n",
    "                            parallel_str)\n",
    "\n",
    "            (annual_dc_energy, monthly_dc_energy, daily_dc_energy,\n",
    "            lifetime_dc_energy, surf_tilt, v_mp) = res\n",
    "\n",
    "            annual_dc_energy_dic[a_face] = [annual_dc_energy*num_modules]\n",
    "            monthly_dc_energy_dic[a_face] = [monthly_dc_energy*num_modules]\n",
    "            daily_dc_energy_dic[a_face]= [daily_dc_energy*num_modules]\n",
    "\n",
    "        annual_dc_energy_df = pd.DataFrame.from_dict(annual_dc_energy_dic)\n",
    "        monthly_dc_energy_df = pd.DataFrame.from_dict(monthly_dc_energy_dic)\n",
    "        daily_dc_energy_df = pd.DataFrame.from_dict(daily_dc_energy_dic)\n",
    "\n",
    "\n",
    "        #----------------------OPTIMIZED TILT-----------------------------------#\n",
    "        tilt = weather_url_dict[file_path_short][2]\n",
    "        azimuth = 180\n",
    "        num_modules = my_df['num_cells'].sum()\n",
    "\n",
    "        ################################################################################\n",
    "\n",
    "        #_____________________________Array Parameters_____________________________#\n",
    "        ## modules per string\n",
    "        mod_per_str = 1\n",
    "        parallel_str = 1\n",
    "        res = runSimulation(weather_url, module_name, inverter_name, tilt, azimuth,\n",
    "                        mod_wgt, g, air_density, h_high, lifetime, degr_rate_percent,\n",
    "                        mism_loss, diode_conn_loss, dc_wiring_loss, track_loss,\n",
    "                        name_plate_loss, dc_optim_loss, snow_loss, mod_per_str,\n",
    "                        parallel_str)\n",
    "\n",
    "        (annual_dc_energy, monthly_dc_energy, daily_dc_energy,\n",
    "        lifetime_dc_energy, surf_tilt, v_mp) = res\n",
    "\n",
    "        annual_dc_energy_opt = annual_dc_energy*num_modules\n",
    "        monthly_dc_energy_opt = monthly_dc_energy*num_modules\n",
    "        daily_dc_energy_opt= daily_dc_energy*num_modules\n",
    "\n",
    "\n",
    "        ##############\n",
    "        annual_dc_energy_df['Optimized Tilt'] = annual_dc_energy_opt\n",
    "        annual_dc_energy_df.to_excel(writer2,\n",
    "                                 index=False,\n",
    "                                 sheet_name=file_path[0:-14])\n",
    "\n",
    "\n",
    "        #-----------------AZIMUTH OPTIMIZATION--------------------------------------#\n",
    "        face0_starting_azim = np.round(my_df.azim_angles[0],2)\n",
    "        loop_count = 0\n",
    "        ref_face_azim = face0_starting_azim\n",
    "\n",
    "        azim_energy_res = {}\n",
    "\n",
    "        detailed_res = {}\n",
    "\n",
    "        while True:\n",
    "\n",
    "            single_azim_res = {}\n",
    "\n",
    "            loop_count += 1\n",
    "            print(\"iter = \" + str(loop_count))\n",
    "\n",
    "            my_df.azim_angles = my_df.azim_angles.apply(increase_azim,\n",
    "                                                        args=(azim_step,))\n",
    "            ref_face_azim = np.round(my_df.azim_angles[0],2)\n",
    "\n",
    "            print(my_df.azim_angles[0])\n",
    "\n",
    "            my_dict = my_df.transpose().to_dict('list')\n",
    "            new_keys = [\"Face \"+ str(x) for x in my_dict.keys()]\n",
    "            my_params_list = list(my_dict.values())\n",
    "            my_building_faces = dict(zip(new_keys, my_params_list))\n",
    "\n",
    "            annual_dc_energy_temp = 0\n",
    "\n",
    "            for a_face in my_building_faces:\n",
    "\n",
    "                tilt = my_building_faces[a_face][0]\n",
    "                azimuth = my_building_faces[a_face][1]\n",
    "                num_modules = my_building_faces[a_face][2]\n",
    "\n",
    "                ########################################################################\n",
    "\n",
    "                mod_per_str = 1\n",
    "                parallel_str = 1\n",
    "                res = runSimulation(weather_url, module_name, inverter_name, tilt,\n",
    "                                    azimuth, mod_wgt, g, air_density, h_high, lifetime,\n",
    "                                    degr_rate_percent, mism_loss, diode_conn_loss,\n",
    "                                    dc_wiring_loss, track_loss, name_plate_loss,\n",
    "                                    dc_optim_loss, snow_loss, mod_per_str, parallel_str)\n",
    "\n",
    "                (annual_dc_energy, monthly_dc_energy, daily_dc_energy,\n",
    "                lifetime_dc_energy, surf_tilt, v_mp) = res\n",
    "\n",
    "                single_azim_res[a_face] = annual_dc_energy*num_modules\n",
    "\n",
    "                annual_dc_energy_temp += annual_dc_energy*num_modules\n",
    "\n",
    "            detailed_res['Azim = ' + str(ref_face_azim)] = single_azim_res\n",
    "\n",
    "            face0_azim_key = np.round(my_df.azim_angles[0],2)\n",
    "            azim_energy_res[face0_azim_key] = [annual_dc_energy_temp]\n",
    "\n",
    "\n",
    "            if face0_azim_key == face0_starting_azim:\n",
    "                print(\"Iteration Complete\")\n",
    "                break\n",
    "            if loop_count == 360:\n",
    "                print(\"Iteration step too small\")\n",
    "                break\n",
    "\n",
    "        detailed_res_df = pd.DataFrame(detailed_res)\n",
    "        detailed_res_df = detailed_res_df.transpose()\n",
    "        detailed_res_df.reset_index(inplace=True)\n",
    "        detailed_res_df.to_excel(writer1,\n",
    "                                 index=False,\n",
    "                                 sheet_name=file_path[0:-14])\n",
    "        \n",
    "        sim_end = time.time()\n",
    "        print('Simulation Time for ' + file_path[0:-4] + ': ' + str(np.round(sim_end - sim_start,2)))\n",
    "\n",
    "    writer1.close()\n",
    "    writer2.close()\n",
    "    \n",
    "\n",
    "my_long_sim_code()"
   ]
  },
  {
   "cell_type": "code",
   "execution_count": null,
   "metadata": {
    "executionInfo": {
     "elapsed": 20,
     "status": "aborted",
     "timestamp": 1694009418952,
     "user": {
      "displayName": "Koami Soulemane Hayibo",
      "userId": "09397315604881879039"
     },
     "user_tz": 240
    },
    "id": "-5kPjT3ZGnJ5"
   },
   "outputs": [],
   "source": [
    "# building_model_list = [\"output\"]\n",
    "\n",
    "# writer = pd.ExcelWriter('azimuth_opt_results.xlsx')\n",
    "# detailed_res_df = pd.DataFrame(detailed_res)\n",
    "# detailed_res_df = detailed_res_df.transpose()\n",
    "\n",
    "# for model_num in range(len(building_model_list)):\n",
    "#     detailed_res_df.reset_index(inplace=True)\n",
    "#     detailed_res_df.to_excel(writer,\n",
    "#                              index=False,\n",
    "#                              sheet_name=building_model_list[model_num])\n",
    "\n",
    "# writer.close()\n",
    "\n",
    "# # pd.DataFrame.to_csv(load, hp_model_list[model_num]+\".csv\")"
   ]
  },
  {
   "cell_type": "code",
   "execution_count": null,
   "metadata": {
    "executionInfo": {
     "elapsed": 22908,
     "status": "aborted",
     "timestamp": 1694009418952,
     "user": {
      "displayName": "Koami Soulemane Hayibo",
      "userId": "09397315604881879039"
     },
     "user_tz": 240
    },
    "id": "dltSthX7CPSG"
   },
   "outputs": [],
   "source": []
  },
  {
   "cell_type": "code",
   "execution_count": null,
   "metadata": {
    "executionInfo": {
     "elapsed": 22903,
     "status": "aborted",
     "timestamp": 1694009418953,
     "user": {
      "displayName": "Koami Soulemane Hayibo",
      "userId": "09397315604881879039"
     },
     "user_tz": 240
    },
    "id": "cB4p6nP1YF34"
   },
   "outputs": [],
   "source": [
    "# pip install squarify"
   ]
  },
  {
   "cell_type": "code",
   "execution_count": null,
   "metadata": {
    "executionInfo": {
     "elapsed": 5,
     "status": "aborted",
     "timestamp": 1694009419099,
     "user": {
      "displayName": "Koami Soulemane Hayibo",
      "userId": "09397315604881879039"
     },
     "user_tz": 240
    },
    "id": "3cFdLIUgX9d8"
   },
   "outputs": [],
   "source": [
    "# import seaborn as sns\n",
    "# import matplotlib.pyplot as plt\n",
    "# import squarify\n",
    "# plt.figure(figsize=(10,10))\n",
    "# # Sample data\n",
    "# values = [250, 120, 280, 320, 140, 95, 25]\n",
    "\n",
    "# # Treemap\n",
    "# squarify.plot(sizes = plot_values,\n",
    "#               #label=['a'+ str(i) for i in range(80)],\n",
    "#               color=sns.color_palette(\"crest\", len(plot_values))\n",
    "# )\n",
    "\n",
    "# # Remove the axis:\n",
    "# plt.axis(\"off\")\n",
    "# plt.legend()\n",
    "# # plt.show()"
   ]
  },
  {
   "cell_type": "markdown",
   "metadata": {
    "id": "_Z4m30jgZF4k"
   },
   "source": [
    "## Simulation Core Code"
   ]
  },
  {
   "cell_type": "code",
   "execution_count": null,
   "metadata": {
    "executionInfo": {
     "elapsed": 5,
     "status": "aborted",
     "timestamp": 1694009419099,
     "user": {
      "displayName": "Koami Soulemane Hayibo",
      "userId": "09397315604881879039"
     },
     "user_tz": 240
    },
    "id": "3WyQAkwRY4Sp"
   },
   "outputs": [],
   "source": [
    "# module_database_url = 'CEC_Modules.csv'\n",
    "# inverter_database_url = 'CEC_Inverters.csv'\n",
    "\n",
    "# simulation_data = ['London Ontario':['/content/london_ontario_42.984267_-81.247534_psm3-tmy_60_tmy.csv']]\n",
    "# weather_url = '/content/south_africa_msg-iodc_60_2019.csv'\n",
    "# module_name = 'SunPower SPR-X21-335'\n",
    "# inverter_name = 'SolarEdge Technologies Ltd : SE6000x [208V]'\n",
    "# azimuth = 0\n",
    "# tilt = 37\n",
    "# mod_wgt = 20\n",
    "# g = 10\n",
    "# air_density = 1.225\n",
    "# h_high = 1.04+0.15\n",
    "# lifetime = 26\n",
    "# degr_rate_percent = 0.5\n",
    "\n",
    "# #___________________________________DC Losses__________________________________#\n",
    "# ## mismatch losses in percentage\n",
    "# mism_loss = 2\n",
    "# diode_conn_loss = 0.5\n",
    "# dc_wiring_loss = 2\n",
    "# track_loss = 0\n",
    "# name_plate_loss = 0\n",
    "# dc_optim_loss = 0\n",
    "# snow_loss = 0\n",
    "# #_______________________________Array Parameters_______________________________#\n",
    "# ## modules per string\n",
    "# mod_per_str = 6\n",
    "# parallel_str = 3\n",
    "# res = runSimulation(weather_url, module_name, inverter_name, tilt, azimuth,\n",
    "#                   mod_wgt, g, air_density, h_high, lifetime, degr_rate_percent,\n",
    "#                   mism_loss, diode_conn_loss, dc_wiring_loss, track_loss,\n",
    "#                   name_plate_loss, dc_optim_loss, snow_loss, mod_per_str,\n",
    "#                   parallel_str)\n",
    "\n",
    "# (annual_ac_energy, monthly_ac_energy, daily_ac_energy,\n",
    "#  lifetime_ac_energy, surf_tilt, v_mp) = res"
   ]
  },
  {
   "cell_type": "code",
   "execution_count": null,
   "metadata": {
    "executionInfo": {
     "elapsed": 4,
     "status": "aborted",
     "timestamp": 1694009419099,
     "user": {
      "displayName": "Koami Soulemane Hayibo",
      "userId": "09397315604881879039"
     },
     "user_tz": 240
    },
    "id": "CqoHnikbLOpK"
   },
   "outputs": [],
   "source": [
    "# module_database_url = 'CEC_Modules.csv'\n",
    "# inverter_database_url = 'CEC_Inverters.csv'\n",
    "\n",
    "# module_name = 'SunPower SPR-X21-335'\n",
    "# inverter_name = 'SolarEdge Technologies Ltd : SE6000x [208V]'\n",
    "\n",
    "# city_name = 'London_Ontario'\n",
    "# weather_url = '/content/london_ontario_42.984267_-81.247534_psm3-tmy_60_tmy.csv'\n",
    "\n",
    "\n",
    "\n",
    "# annual_ac_energy_dic = {}\n",
    "# monthly_ac_energy_dic = {}\n",
    "# daily_ac_energy_dic = {}\n",
    "\n",
    "\n",
    "\n",
    "\n",
    "# tilt = 34\n",
    "# azimuth = 180\n",
    "# # num_modules = 231+222+155+108+526+342+254+143+233+296+452+158+215+143+144+119\n",
    "# ############################################################################\n",
    "# mod_wgt = 20\n",
    "# g = 10\n",
    "# air_density = 1.225\n",
    "# h_high = 1.04+0.15\n",
    "# ############################################################################\n",
    "\n",
    "# lifetime = 26\n",
    "# degr_rate_percent = 0.5\n",
    "\n",
    "# #________________________________DC Losses_________________________________#\n",
    "# ## mismatch losses in percentage\n",
    "# mism_loss = 2\n",
    "# diode_conn_loss = 0.5\n",
    "# dc_wiring_loss = 2\n",
    "# track_loss = 0\n",
    "# name_plate_loss = 0\n",
    "# dc_optim_loss = 0\n",
    "# snow_loss = 0\n",
    "# #_____________________________Array Parameters_____________________________#\n",
    "# ## modules per string\n",
    "# mod_per_str = 6\n",
    "# parallel_str = 3\n",
    "# res = runSimulation(weather_url, module_name, inverter_name, tilt, azimuth,\n",
    "#                 mod_wgt, g, air_density, h_high, lifetime, degr_rate_percent,\n",
    "#                 mism_loss, diode_conn_loss, dc_wiring_loss, track_loss,\n",
    "#                 name_plate_loss, dc_optim_loss, snow_loss, mod_per_str,\n",
    "#                 parallel_str)\n",
    "\n",
    "# (annual_dc_energy, monthly_dc_energy, daily_dc_energy,\n",
    "# lifetime_dc_energy, surf_tilt, v_mp) = res\n",
    "# annual_dc_energy = annual_dc_energy\n",
    "# # annual_ac_energy_dic[a_face] = [annual_ac_energy]\n",
    "# # monthly_ac_energy_dic[a_face] = monthly_ac_energy\n",
    "# # daily_ac_energy_dic[a_face]= daily_ac_energy\n",
    "\n",
    "# # annual_ac_energy_df = pd.DataFrame.from_dict(annual_ac_energy_dic)\n",
    "# # monthly_ac_energy_df = pd.DataFrame.from_dict(monthly_ac_energy_dic)\n",
    "# # daily_ac_energy_df = pd.DataFrame.from_dict(daily_ac_energy_dic)"
   ]
  },
  {
   "cell_type": "code",
   "execution_count": null,
   "metadata": {
    "executionInfo": {
     "elapsed": 5,
     "status": "aborted",
     "timestamp": 1694009419100,
     "user": {
      "displayName": "Koami Soulemane Hayibo",
      "userId": "09397315604881879039"
     },
     "user_tz": 240
    },
    "id": "pFYbVdKWJj5s"
   },
   "outputs": [],
   "source": [
    "# my_df.transpose().sum(axis=1)"
   ]
  },
  {
   "cell_type": "code",
   "execution_count": null,
   "metadata": {
    "executionInfo": {
     "elapsed": 4,
     "status": "aborted",
     "timestamp": 1694009419100,
     "user": {
      "displayName": "Koami Soulemane Hayibo",
      "userId": "09397315604881879039"
     },
     "user_tz": 240
    },
    "id": "lzxELVoXX-6v"
   },
   "outputs": [],
   "source": [
    "# azim_energy_res"
   ]
  },
  {
   "cell_type": "code",
   "execution_count": null,
   "metadata": {
    "executionInfo": {
     "elapsed": 4,
     "status": "aborted",
     "timestamp": 1694009419100,
     "user": {
      "displayName": "Koami Soulemane Hayibo",
      "userId": "09397315604881879039"
     },
     "user_tz": 240
    },
    "id": "v4QGEGV-PcFx"
   },
   "outputs": [],
   "source": [
    "# my_df.azim_angles = my_df.azim_angles.apply(increase_azim, args=(azim_step,))\n",
    "# my_df"
   ]
  },
  {
   "cell_type": "code",
   "execution_count": null,
   "metadata": {
    "executionInfo": {
     "elapsed": 5,
     "status": "aborted",
     "timestamp": 1694009419101,
     "user": {
      "displayName": "Koami Soulemane Hayibo",
      "userId": "09397315604881879039"
     },
     "user_tz": 240
    },
    "id": "8HPa-eLhOyj0"
   },
   "outputs": [],
   "source": [
    "# 365-360"
   ]
  },
  {
   "cell_type": "code",
   "execution_count": null,
   "metadata": {
    "executionInfo": {
     "elapsed": 5,
     "status": "aborted",
     "timestamp": 1694009419101,
     "user": {
      "displayName": "Koami Soulemane Hayibo",
      "userId": "09397315604881879039"
     },
     "user_tz": 240
    },
    "id": "spSlrG4YptEe"
   },
   "outputs": [],
   "source": [
    "file_path[0:-4]"
   ]
  },
  {
   "cell_type": "code",
   "execution_count": null,
   "metadata": {
    "executionInfo": {
     "elapsed": 4,
     "status": "aborted",
     "timestamp": 1694009419101,
     "user": {
      "displayName": "Koami Soulemane Hayibo",
      "userId": "09397315604881879039"
     },
     "user_tz": 240
    },
    "id": "wQzBreaKpuC2"
   },
   "outputs": [],
   "source": [
    "x = input('Name your building')\n",
    "\n",
    "print(os.path.exists(x))"
   ]
  }
 ],
 "metadata": {
  "colab": {
   "authorship_tag": "ABX9TyMNuX5KWUEDaQCFBkQ6y2Xq",
   "collapsed_sections": [
    "D1Jf9slSHzOw"
   ],
   "provenance": [
    {
     "file_id": "1x4BuAi6EjKPIUldGioacMbsG7i4ti65_",
     "timestamp": 1675187113757
    },
    {
     "file_id": "1qvwKcBRfxQbNdplyOAkdHgWie1sA2JUl",
     "timestamp": 1656690028804
    }
   ]
  },
  "kernelspec": {
   "display_name": "Python 3",
   "language": "python",
   "name": "python3"
  },
  "language_info": {
   "codemirror_mode": {
    "name": "ipython",
    "version": 3
   },
   "file_extension": ".py",
   "mimetype": "text/x-python",
   "name": "python",
   "nbconvert_exporter": "python",
   "pygments_lexer": "ipython3",
   "version": "3.8.8"
  }
 },
 "nbformat": 4,
 "nbformat_minor": 1
}
